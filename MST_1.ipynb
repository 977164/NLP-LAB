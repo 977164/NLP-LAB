{
  "nbformat": 4,
  "nbformat_minor": 0,
  "metadata": {
    "colab": {
      "provenance": [],
      "authorship_tag": "ABX9TyN6cr8zF50J43X8daKUB3S3",
      "include_colab_link": true
    },
    "kernelspec": {
      "name": "python3",
      "display_name": "Python 3"
    },
    "language_info": {
      "name": "python"
    }
  },
  "cells": [
    {
      "cell_type": "markdown",
      "metadata": {
        "id": "view-in-github",
        "colab_type": "text"
      },
      "source": [
        "<a href=\"https://colab.research.google.com/github/977164/NLP-LAB/blob/main/MST_1.ipynb\" target=\"_parent\"><img src=\"https://colab.research.google.com/assets/colab-badge.svg\" alt=\"Open In Colab\"/></a>"
      ]
    },
    {
      "cell_type": "code",
      "execution_count": 18,
      "metadata": {
        "colab": {
          "base_uri": "https://localhost:8080/"
        },
        "id": "ercTTfKapOwr",
        "outputId": "83205536-f436-4f03-b40d-a0c936a68ba1"
      },
      "outputs": [
        {
          "output_type": "stream",
          "name": "stderr",
          "text": [
            "[nltk_data] Downloading package punkt to /root/nltk_data...\n",
            "[nltk_data]   Package punkt is already up-to-date!\n",
            "[nltk_data] Downloading package wordnet to /root/nltk_data...\n",
            "[nltk_data]   Package wordnet is already up-to-date!\n",
            "[nltk_data] Downloading package wordnet to /root/nltk_data...\n",
            "[nltk_data]   Package wordnet is already up-to-date!\n",
            "[nltk_data] Downloading package stopwords to /root/nltk_data...\n",
            "[nltk_data]   Unzipping corpora/stopwords.zip.\n"
          ]
        }
      ],
      "source": [
        "import nltk\n",
        "from nltk.corpus import stopwords\n",
        "from nltk.tokenize import word_tokenize, sent_tokenize\n",
        "from nltk.stem import PorterStemmer, WordNetLemmatizer\n",
        "nltk.download('punkt')\n",
        "nltk.download('wordnet')\n",
        "from collections import Counter\n",
        "nltk.download('wordnet')\n",
        "nltk.download('stopwords')\n",
        "\n",
        "\n",
        "# Sample Story\n",
        "story = \"\"\"\n",
        "Once upon a time, in a realm far away, there existed an enchanted forest where magic thrived and mystical creatures roamed freely.\n",
        "Deep within this forest stood a towering ancient oak tree, its gnarled branches stretching towards the sky like fingers yearning to touch the heavens.\n",
        "Legend had it that within the hollowed trunk of this magnificent tree resided a powerful sorceress known as Elysia.\n",
        "\n",
        "Elysia was no ordinary sorceress; her powers were unparalleled, and her wisdom was sought by beings from all corners of the realm.\n",
        "But despite her extraordinary abilities, Elysia lived a solitary life, preferring the company of the whispering winds and the rustling leaves to that of other beings.\n",
        "\n",
        "One day, a young adventurer named Aiden stumbled upon the enchanted forest while on a quest to find the fabled Fountain of Youth.\n",
        "Drawn by curiosity and the allure of magic, Aiden ventured deeper into the forest, unaware of the dangers that lurked within its shadowed depths.\n",
        "\n",
        "As Aiden journeyed further, he encountered a myriad of fantastical creatures – from mischievous sprites to majestic unicorns.\n",
        "But it was the tales of the sorceress Elysia that captivated him the most.\n",
        "Determined to seek her out, Aiden pressed on, guided by the whispers of the ancient trees.\n",
        "\n",
        "Finally, after days of wandering, Aiden stood before the towering oak tree that housed Elysia's abode.\n",
        "Taking a deep breath, he stepped inside the hollowed trunk and found himself in a chamber bathed in a soft, ethereal light.\n",
        "\n",
        "There, seated upon a throne of twisted roots, was Elysia herself – her eyes sparkling with ancient knowledge and her silver hair cascading like a waterfall around her shoulders.\n",
        "Sensing Aiden's presence, she beckoned him forward with a gentle smile.\n",
        "\n",
        "\"Welcome, young traveler,\" she said, her voice like music to his ears.\n",
        "\"What brings you to my humble abode?\"\n",
        "\n",
        "Aiden bowed respectfully before the sorceress, his heart pounding with awe and reverence.\n",
        "\"I seek the Fountain of Youth,\" he replied, his voice barely above a whisper.\n",
        "\"I have heard that you possess the knowledge to find it.\"\n",
        "\n",
        "Elysia studied him for a moment, her piercing gaze seeming to look into his very soul.\n",
        "\"The Fountain of Youth is a powerful artifact, indeed,\" she said.\n",
        "\"But its whereabouts have long been forgotten by mortals.\n",
        "However, I can offer you something far greater than eternal youth – wisdom.\"\n",
        "\n",
        "And so, for days on end, Aiden remained in the enchanted forest, learning from Elysia the secrets of the universe and the mysteries of magic.\n",
        "With each passing day, he felt himself growing wiser and more attuned to the world around him.\n",
        "\n",
        "In the end, Aiden realized that the true magic of the enchanted forest lay not in its hidden treasures or mystical creatures,\n",
        "but in the wisdom passed down by the sorceress Elysia.\n",
        "And as he bid farewell to the forest and set out on his journey once more,\n",
        "he carried with him not the promise of eternal youth, but the knowledge that would guide him for the rest of his days.\n",
        "\"\"\"\n",
        "\n",
        "\n"
      ]
    },
    {
      "cell_type": "markdown",
      "source": [
        "#WORD TOKENIZE AND SENTENCE TOKENIZE"
      ],
      "metadata": {
        "id": "o5ABYbjF7OBT"
      }
    },
    {
      "cell_type": "code",
      "source": [
        "word_tokens = word_tokenize(story)"
      ],
      "metadata": {
        "id": "48eS5Tj1sjt0"
      },
      "execution_count": 7,
      "outputs": []
    },
    {
      "cell_type": "code",
      "source": [
        "\n",
        "sent_tokens = sent_tokenize(story)"
      ],
      "metadata": {
        "id": "8qnx_OL_spQT"
      },
      "execution_count": 8,
      "outputs": []
    },
    {
      "cell_type": "code",
      "source": [
        "print(\"Word Tokenization:\")\n",
        "print(word_tokens)"
      ],
      "metadata": {
        "colab": {
          "base_uri": "https://localhost:8080/"
        },
        "id": "cUsDewy6ss2b",
        "outputId": "59f9da90-226f-4897-eaad-2f91e71d9109"
      },
      "execution_count": 9,
      "outputs": [
        {
          "output_type": "stream",
          "name": "stdout",
          "text": [
            "Word Tokenization:\n",
            "['Once', 'upon', 'a', 'time', ',', 'in', 'a', 'realm', 'far', 'away', ',', 'there', 'existed', 'an', 'enchanted', 'forest', 'where', 'magic', 'thrived', 'and', 'mystical', 'creatures', 'roamed', 'freely', '.', 'Deep', 'within', 'this', 'forest', 'stood', 'a', 'towering', 'ancient', 'oak', 'tree', ',', 'its', 'gnarled', 'branches', 'stretching', 'towards', 'the', 'sky', 'like', 'fingers', 'yearning', 'to', 'touch', 'the', 'heavens', '.', 'Legend', 'had', 'it', 'that', 'within', 'the', 'hollowed', 'trunk', 'of', 'this', 'magnificent', 'tree', 'resided', 'a', 'powerful', 'sorceress', 'known', 'as', 'Elysia', '.', 'Elysia', 'was', 'no', 'ordinary', 'sorceress', ';', 'her', 'powers', 'were', 'unparalleled', ',', 'and', 'her', 'wisdom', 'was', 'sought', 'by', 'beings', 'from', 'all', 'corners', 'of', 'the', 'realm', '.', 'But', 'despite', 'her', 'extraordinary', 'abilities', ',', 'Elysia', 'lived', 'a', 'solitary', 'life', ',', 'preferring', 'the', 'company', 'of', 'the', 'whispering', 'winds', 'and', 'the', 'rustling', 'leaves', 'to', 'that', 'of', 'other', 'beings', '.', 'One', 'day', ',', 'a', 'young', 'adventurer', 'named', 'Aiden', 'stumbled', 'upon', 'the', 'enchanted', 'forest', 'while', 'on', 'a', 'quest', 'to', 'find', 'the', 'fabled', 'Fountain', 'of', 'Youth', '.', 'Drawn', 'by', 'curiosity', 'and', 'the', 'allure', 'of', 'magic', ',', 'Aiden', 'ventured', 'deeper', 'into', 'the', 'forest', ',', 'unaware', 'of', 'the', 'dangers', 'that', 'lurked', 'within', 'its', 'shadowed', 'depths', '.', 'As', 'Aiden', 'journeyed', 'further', ',', 'he', 'encountered', 'a', 'myriad', 'of', 'fantastical', 'creatures', '–', 'from', 'mischievous', 'sprites', 'to', 'majestic', 'unicorns', '.', 'But', 'it', 'was', 'the', 'tales', 'of', 'the', 'sorceress', 'Elysia', 'that', 'captivated', 'him', 'the', 'most', '.', 'Determined', 'to', 'seek', 'her', 'out', ',', 'Aiden', 'pressed', 'on', ',', 'guided', 'by', 'the', 'whispers', 'of', 'the', 'ancient', 'trees', '.', 'Finally', ',', 'after', 'days', 'of', 'wandering', ',', 'Aiden', 'stood', 'before', 'the', 'towering', 'oak', 'tree', 'that', 'housed', 'Elysia', \"'s\", 'abode', '.', 'Taking', 'a', 'deep', 'breath', ',', 'he', 'stepped', 'inside', 'the', 'hollowed', 'trunk', 'and', 'found', 'himself', 'in', 'a', 'chamber', 'bathed', 'in', 'a', 'soft', ',', 'ethereal', 'light', '.', 'There', ',', 'seated', 'upon', 'a', 'throne', 'of', 'twisted', 'roots', ',', 'was', 'Elysia', 'herself', '–', 'her', 'eyes', 'sparkling', 'with', 'ancient', 'knowledge', 'and', 'her', 'silver', 'hair', 'cascading', 'like', 'a', 'waterfall', 'around', 'her', 'shoulders', '.', 'Sensing', 'Aiden', \"'s\", 'presence', ',', 'she', 'beckoned', 'him', 'forward', 'with', 'a', 'gentle', 'smile', '.', '``', 'Welcome', ',', 'young', 'traveler', ',', \"''\", 'she', 'said', ',', 'her', 'voice', 'like', 'music', 'to', 'his', 'ears', '.', '``', 'What', 'brings', 'you', 'to', 'my', 'humble', 'abode', '?', \"''\", 'Aiden', 'bowed', 'respectfully', 'before', 'the', 'sorceress', ',', 'his', 'heart', 'pounding', 'with', 'awe', 'and', 'reverence', '.', '``', 'I', 'seek', 'the', 'Fountain', 'of', 'Youth', ',', \"''\", 'he', 'replied', ',', 'his', 'voice', 'barely', 'above', 'a', 'whisper', '.', '``', 'I', 'have', 'heard', 'that', 'you', 'possess', 'the', 'knowledge', 'to', 'find', 'it', '.', \"''\", 'Elysia', 'studied', 'him', 'for', 'a', 'moment', ',', 'her', 'piercing', 'gaze', 'seeming', 'to', 'look', 'into', 'his', 'very', 'soul', '.', '``', 'The', 'Fountain', 'of', 'Youth', 'is', 'a', 'powerful', 'artifact', ',', 'indeed', ',', \"''\", 'she', 'said', '.', '``', 'But', 'its', 'whereabouts', 'have', 'long', 'been', 'forgotten', 'by', 'mortals', '.', 'However', ',', 'I', 'can', 'offer', 'you', 'something', 'far', 'greater', 'than', 'eternal', 'youth', '–', 'wisdom', '.', \"''\", 'And', 'so', ',', 'for', 'days', 'on', 'end', ',', 'Aiden', 'remained', 'in', 'the', 'enchanted', 'forest', ',', 'learning', 'from', 'Elysia', 'the', 'secrets', 'of', 'the', 'universe', 'and', 'the', 'mysteries', 'of', 'magic', '.', 'With', 'each', 'passing', 'day', ',', 'he', 'felt', 'himself', 'growing', 'wiser', 'and', 'more', 'attuned', 'to', 'the', 'world', 'around', 'him', '.', 'In', 'the', 'end', ',', 'Aiden', 'realized', 'that', 'the', 'true', 'magic', 'of', 'the', 'enchanted', 'forest', 'lay', 'not', 'in', 'its', 'hidden', 'treasures', 'or', 'mystical', 'creatures', ',', 'but', 'in', 'the', 'wisdom', 'passed', 'down', 'by', 'the', 'sorceress', 'Elysia', '.', 'And', 'as', 'he', 'bid', 'farewell', 'to', 'the', 'forest', 'and', 'set', 'out', 'on', 'his', 'journey', 'once', 'more', ',', 'he', 'carried', 'with', 'him', 'not', 'the', 'promise', 'of', 'eternal', 'youth', ',', 'but', 'the', 'knowledge', 'that', 'would', 'guide', 'him', 'for', 'the', 'rest', 'of', 'his', 'days', '.']\n"
          ]
        }
      ]
    },
    {
      "cell_type": "code",
      "source": [
        "print(\"\\nSentence Tokenization:\")\n",
        "print(sent_tokens)"
      ],
      "metadata": {
        "colab": {
          "base_uri": "https://localhost:8080/"
        },
        "id": "ZJnBU3HAsvRV",
        "outputId": "3057392b-262f-419a-b96e-808cb2cc12dd"
      },
      "execution_count": 10,
      "outputs": [
        {
          "output_type": "stream",
          "name": "stdout",
          "text": [
            "\n",
            "Sentence Tokenization:\n",
            "['\\nOnce upon a time, in a realm far away, there existed an enchanted forest where magic thrived and mystical creatures roamed freely.', 'Deep within this forest stood a towering ancient oak tree, its gnarled branches stretching towards the sky like fingers yearning to touch the heavens.', 'Legend had it that within the hollowed trunk of this magnificent tree resided a powerful sorceress known as Elysia.', 'Elysia was no ordinary sorceress; her powers were unparalleled, and her wisdom was sought by beings from all corners of the realm.', 'But despite her extraordinary abilities, Elysia lived a solitary life, preferring the company of the whispering winds and the rustling leaves to that of other beings.', 'One day, a young adventurer named Aiden stumbled upon the enchanted forest while on a quest to find the fabled Fountain of Youth.', 'Drawn by curiosity and the allure of magic, Aiden ventured deeper into the forest, unaware of the dangers that lurked within its shadowed depths.', 'As Aiden journeyed further, he encountered a myriad of fantastical creatures – from mischievous sprites to majestic unicorns.', 'But it was the tales of the sorceress Elysia that captivated him the most.', 'Determined to seek her out, Aiden pressed on, guided by the whispers of the ancient trees.', \"Finally, after days of wandering, Aiden stood before the towering oak tree that housed Elysia's abode.\", 'Taking a deep breath, he stepped inside the hollowed trunk and found himself in a chamber bathed in a soft, ethereal light.', 'There, seated upon a throne of twisted roots, was Elysia herself – her eyes sparkling with ancient knowledge and her silver hair cascading like a waterfall around her shoulders.', \"Sensing Aiden's presence, she beckoned him forward with a gentle smile.\", '\"Welcome, young traveler,\" she said, her voice like music to his ears.', '\"What brings you to my humble abode?\"', 'Aiden bowed respectfully before the sorceress, his heart pounding with awe and reverence.', '\"I seek the Fountain of Youth,\" he replied, his voice barely above a whisper.', '\"I have heard that you possess the knowledge to find it.\"', 'Elysia studied him for a moment, her piercing gaze seeming to look into his very soul.', '\"The Fountain of Youth is a powerful artifact, indeed,\" she said.', '\"But its whereabouts have long been forgotten by mortals.', 'However, I can offer you something far greater than eternal youth – wisdom.\"', 'And so, for days on end, Aiden remained in the enchanted forest, learning from Elysia the secrets of the universe and the mysteries of magic.', 'With each passing day, he felt himself growing wiser and more attuned to the world around him.', 'In the end, Aiden realized that the true magic of the enchanted forest lay not in its hidden treasures or mystical creatures, \\nbut in the wisdom passed down by the sorceress Elysia.', 'And as he bid farewell to the forest and set out on his journey once more, \\nhe carried with him not the promise of eternal youth, but the knowledge that would guide him for the rest of his days.']\n"
          ]
        }
      ]
    },
    {
      "cell_type": "markdown",
      "source": [
        "##STEMMING AND LEMMATIZATION"
      ],
      "metadata": {
        "id": "PQu2OYUm7YPC"
      }
    },
    {
      "cell_type": "code",
      "source": [
        "# Tokenizing sentences\n",
        "sentences = sent_tokenize(story)\n",
        "\n",
        "\n",
        "porter_stemmer = PorterStemmer()\n",
        "lemmatizer = WordNetLemmatizer()\n",
        "\n",
        "# Stemming and Lemmatization\n",
        "stemmed_sentences = []\n",
        "lemmatized_sentences = []\n",
        "\n",
        "for sentence in sentences:\n",
        "\n",
        "    words = word_tokenize(sentence)\n",
        "\n",
        "\n",
        "    stemmed_words = [porter_stemmer.stem(word) for word in words]\n",
        "    stemmed_sentence = ' '.join(stemmed_words)\n",
        "    stemmed_sentences.append(stemmed_sentence)\n",
        "\n",
        "\n",
        "    lemmatized_words = [lemmatizer.lemmatize(word) for word in words]\n",
        "    lemmatized_sentence = ' '.join(lemmatized_words)\n",
        "    lemmatized_sentences.append(lemmatized_sentence)\n",
        "\n",
        "\n",
        "print(\"Original Story:\")\n",
        "print(story)\n",
        "print(\"\\nStemmed Story:\")\n",
        "print('\\n'.join(stemmed_sentences))\n",
        "print(\"\\nLemmatized Story:\")\n",
        "print('\\n'.join(lemmatized_sentences))"
      ],
      "metadata": {
        "colab": {
          "base_uri": "https://localhost:8080/"
        },
        "id": "uMolMP06uikl",
        "outputId": "de84f651-e9ea-463d-8a4e-13203fb3f08c"
      },
      "execution_count": 13,
      "outputs": [
        {
          "output_type": "stream",
          "name": "stdout",
          "text": [
            "Original Story:\n",
            "\n",
            "Once upon a time, in a realm far away, there existed an enchanted forest where magic thrived and mystical creatures roamed freely. \n",
            "Deep within this forest stood a towering ancient oak tree, its gnarled branches stretching towards the sky like fingers yearning to touch the heavens. \n",
            "Legend had it that within the hollowed trunk of this magnificent tree resided a powerful sorceress known as Elysia.\n",
            "\n",
            "Elysia was no ordinary sorceress; her powers were unparalleled, and her wisdom was sought by beings from all corners of the realm. \n",
            "But despite her extraordinary abilities, Elysia lived a solitary life, preferring the company of the whispering winds and the rustling leaves to that of other beings.\n",
            "\n",
            "One day, a young adventurer named Aiden stumbled upon the enchanted forest while on a quest to find the fabled Fountain of Youth. \n",
            "Drawn by curiosity and the allure of magic, Aiden ventured deeper into the forest, unaware of the dangers that lurked within its shadowed depths.\n",
            "\n",
            "As Aiden journeyed further, he encountered a myriad of fantastical creatures – from mischievous sprites to majestic unicorns. \n",
            "But it was the tales of the sorceress Elysia that captivated him the most. \n",
            "Determined to seek her out, Aiden pressed on, guided by the whispers of the ancient trees.\n",
            "\n",
            "Finally, after days of wandering, Aiden stood before the towering oak tree that housed Elysia's abode. \n",
            "Taking a deep breath, he stepped inside the hollowed trunk and found himself in a chamber bathed in a soft, ethereal light.\n",
            "\n",
            "There, seated upon a throne of twisted roots, was Elysia herself – her eyes sparkling with ancient knowledge and her silver hair cascading like a waterfall around her shoulders. \n",
            "Sensing Aiden's presence, she beckoned him forward with a gentle smile.\n",
            "\n",
            "\"Welcome, young traveler,\" she said, her voice like music to his ears. \n",
            "\"What brings you to my humble abode?\"\n",
            "\n",
            "Aiden bowed respectfully before the sorceress, his heart pounding with awe and reverence. \n",
            "\"I seek the Fountain of Youth,\" he replied, his voice barely above a whisper. \n",
            "\"I have heard that you possess the knowledge to find it.\"\n",
            "\n",
            "Elysia studied him for a moment, her piercing gaze seeming to look into his very soul. \n",
            "\"The Fountain of Youth is a powerful artifact, indeed,\" she said. \n",
            "\"But its whereabouts have long been forgotten by mortals. \n",
            "However, I can offer you something far greater than eternal youth – wisdom.\"\n",
            "\n",
            "And so, for days on end, Aiden remained in the enchanted forest, learning from Elysia the secrets of the universe and the mysteries of magic. \n",
            "With each passing day, he felt himself growing wiser and more attuned to the world around him.\n",
            "\n",
            "In the end, Aiden realized that the true magic of the enchanted forest lay not in its hidden treasures or mystical creatures, \n",
            "but in the wisdom passed down by the sorceress Elysia. \n",
            "And as he bid farewell to the forest and set out on his journey once more, \n",
            "he carried with him not the promise of eternal youth, but the knowledge that would guide him for the rest of his days.\n",
            "\n",
            "\n",
            "Stemmed Story:\n",
            "onc upon a time , in a realm far away , there exist an enchant forest where magic thrive and mystic creatur roam freeli .\n",
            "deep within thi forest stood a tower ancient oak tree , it gnarl branch stretch toward the sky like finger yearn to touch the heaven .\n",
            "legend had it that within the hollow trunk of thi magnific tree resid a power sorceress known as elysia .\n",
            "elysia wa no ordinari sorceress ; her power were unparallel , and her wisdom wa sought by be from all corner of the realm .\n",
            "but despit her extraordinari abil , elysia live a solitari life , prefer the compani of the whisper wind and the rustl leav to that of other be .\n",
            "one day , a young adventur name aiden stumbl upon the enchant forest while on a quest to find the fabl fountain of youth .\n",
            "drawn by curios and the allur of magic , aiden ventur deeper into the forest , unawar of the danger that lurk within it shadow depth .\n",
            "as aiden journey further , he encount a myriad of fantast creatur – from mischiev sprite to majest unicorn .\n",
            "but it wa the tale of the sorceress elysia that captiv him the most .\n",
            "determin to seek her out , aiden press on , guid by the whisper of the ancient tree .\n",
            "final , after day of wander , aiden stood befor the tower oak tree that hous elysia 's abod .\n",
            "take a deep breath , he step insid the hollow trunk and found himself in a chamber bath in a soft , ether light .\n",
            "there , seat upon a throne of twist root , wa elysia herself – her eye sparkl with ancient knowledg and her silver hair cascad like a waterfal around her shoulder .\n",
            "sens aiden 's presenc , she beckon him forward with a gentl smile .\n",
            "`` welcom , young travel , '' she said , her voic like music to hi ear .\n",
            "`` what bring you to my humbl abod ? ''\n",
            "aiden bow respect befor the sorceress , hi heart pound with awe and rever .\n",
            "`` i seek the fountain of youth , '' he repli , hi voic bare abov a whisper .\n",
            "`` i have heard that you possess the knowledg to find it . ''\n",
            "elysia studi him for a moment , her pierc gaze seem to look into hi veri soul .\n",
            "`` the fountain of youth is a power artifact , inde , '' she said .\n",
            "`` but it whereabout have long been forgotten by mortal .\n",
            "howev , i can offer you someth far greater than etern youth – wisdom . ''\n",
            "and so , for day on end , aiden remain in the enchant forest , learn from elysia the secret of the univers and the mysteri of magic .\n",
            "with each pass day , he felt himself grow wiser and more attun to the world around him .\n",
            "in the end , aiden realiz that the true magic of the enchant forest lay not in it hidden treasur or mystic creatur , but in the wisdom pass down by the sorceress elysia .\n",
            "and as he bid farewel to the forest and set out on hi journey onc more , he carri with him not the promis of etern youth , but the knowledg that would guid him for the rest of hi day .\n",
            "\n",
            "Lemmatized Story:\n",
            "Once upon a time , in a realm far away , there existed an enchanted forest where magic thrived and mystical creature roamed freely .\n",
            "Deep within this forest stood a towering ancient oak tree , it gnarled branch stretching towards the sky like finger yearning to touch the heaven .\n",
            "Legend had it that within the hollowed trunk of this magnificent tree resided a powerful sorceress known a Elysia .\n",
            "Elysia wa no ordinary sorceress ; her power were unparalleled , and her wisdom wa sought by being from all corner of the realm .\n",
            "But despite her extraordinary ability , Elysia lived a solitary life , preferring the company of the whispering wind and the rustling leaf to that of other being .\n",
            "One day , a young adventurer named Aiden stumbled upon the enchanted forest while on a quest to find the fabled Fountain of Youth .\n",
            "Drawn by curiosity and the allure of magic , Aiden ventured deeper into the forest , unaware of the danger that lurked within it shadowed depth .\n",
            "As Aiden journeyed further , he encountered a myriad of fantastical creature – from mischievous sprite to majestic unicorn .\n",
            "But it wa the tale of the sorceress Elysia that captivated him the most .\n",
            "Determined to seek her out , Aiden pressed on , guided by the whisper of the ancient tree .\n",
            "Finally , after day of wandering , Aiden stood before the towering oak tree that housed Elysia 's abode .\n",
            "Taking a deep breath , he stepped inside the hollowed trunk and found himself in a chamber bathed in a soft , ethereal light .\n",
            "There , seated upon a throne of twisted root , wa Elysia herself – her eye sparkling with ancient knowledge and her silver hair cascading like a waterfall around her shoulder .\n",
            "Sensing Aiden 's presence , she beckoned him forward with a gentle smile .\n",
            "`` Welcome , young traveler , '' she said , her voice like music to his ear .\n",
            "`` What brings you to my humble abode ? ''\n",
            "Aiden bowed respectfully before the sorceress , his heart pounding with awe and reverence .\n",
            "`` I seek the Fountain of Youth , '' he replied , his voice barely above a whisper .\n",
            "`` I have heard that you posse the knowledge to find it . ''\n",
            "Elysia studied him for a moment , her piercing gaze seeming to look into his very soul .\n",
            "`` The Fountain of Youth is a powerful artifact , indeed , '' she said .\n",
            "`` But it whereabouts have long been forgotten by mortal .\n",
            "However , I can offer you something far greater than eternal youth – wisdom . ''\n",
            "And so , for day on end , Aiden remained in the enchanted forest , learning from Elysia the secret of the universe and the mystery of magic .\n",
            "With each passing day , he felt himself growing wiser and more attuned to the world around him .\n",
            "In the end , Aiden realized that the true magic of the enchanted forest lay not in it hidden treasure or mystical creature , but in the wisdom passed down by the sorceress Elysia .\n",
            "And a he bid farewell to the forest and set out on his journey once more , he carried with him not the promise of eternal youth , but the knowledge that would guide him for the rest of his day .\n"
          ]
        }
      ]
    },
    {
      "cell_type": "code",
      "source": [
        "stop_words = set(stopwords.words('english'))"
      ],
      "metadata": {
        "id": "SS76niNnwmZm"
      },
      "execution_count": 19,
      "outputs": []
    },
    {
      "cell_type": "markdown",
      "source": [
        "##STOP WORD REMOVED"
      ],
      "metadata": {
        "id": "oRAFMuIW7Ccg"
      }
    },
    {
      "cell_type": "code",
      "source": [
        "\n",
        "processed_words = []\n",
        "\n",
        "# Process each sentence\n",
        "for sentence in sentences:\n",
        "\n",
        "    words = word_tokenize(sentence)\n",
        "\n",
        "\n",
        "    filtered_words = [word for word in words if word.lower() not in stop_words]\n",
        "\n",
        "\n",
        "    processed_words.extend(filtered_words)\n",
        "\n",
        "print(processed_words)\n"
      ],
      "metadata": {
        "colab": {
          "base_uri": "https://localhost:8080/"
        },
        "id": "IITmoiX716dL",
        "outputId": "7696fe10-22fa-4a46-b555-88d736b88b22"
      },
      "execution_count": 23,
      "outputs": [
        {
          "output_type": "stream",
          "name": "stdout",
          "text": [
            "['upon', 'time', ',', 'realm', 'far', 'away', ',', 'existed', 'enchanted', 'forest', 'magic', 'thrived', 'mystical', 'creatures', 'roamed', 'freely', '.', 'Deep', 'within', 'forest', 'stood', 'towering', 'ancient', 'oak', 'tree', ',', 'gnarled', 'branches', 'stretching', 'towards', 'sky', 'like', 'fingers', 'yearning', 'touch', 'heavens', '.', 'Legend', 'within', 'hollowed', 'trunk', 'magnificent', 'tree', 'resided', 'powerful', 'sorceress', 'known', 'Elysia', '.', 'Elysia', 'ordinary', 'sorceress', ';', 'powers', 'unparalleled', ',', 'wisdom', 'sought', 'beings', 'corners', 'realm', '.', 'despite', 'extraordinary', 'abilities', ',', 'Elysia', 'lived', 'solitary', 'life', ',', 'preferring', 'company', 'whispering', 'winds', 'rustling', 'leaves', 'beings', '.', 'One', 'day', ',', 'young', 'adventurer', 'named', 'Aiden', 'stumbled', 'upon', 'enchanted', 'forest', 'quest', 'find', 'fabled', 'Fountain', 'Youth', '.', 'Drawn', 'curiosity', 'allure', 'magic', ',', 'Aiden', 'ventured', 'deeper', 'forest', ',', 'unaware', 'dangers', 'lurked', 'within', 'shadowed', 'depths', '.', 'Aiden', 'journeyed', ',', 'encountered', 'myriad', 'fantastical', 'creatures', '–', 'mischievous', 'sprites', 'majestic', 'unicorns', '.', 'tales', 'sorceress', 'Elysia', 'captivated', '.', 'Determined', 'seek', ',', 'Aiden', 'pressed', ',', 'guided', 'whispers', 'ancient', 'trees', '.', 'Finally', ',', 'days', 'wandering', ',', 'Aiden', 'stood', 'towering', 'oak', 'tree', 'housed', 'Elysia', \"'s\", 'abode', '.', 'Taking', 'deep', 'breath', ',', 'stepped', 'inside', 'hollowed', 'trunk', 'found', 'chamber', 'bathed', 'soft', ',', 'ethereal', 'light', '.', ',', 'seated', 'upon', 'throne', 'twisted', 'roots', ',', 'Elysia', '–', 'eyes', 'sparkling', 'ancient', 'knowledge', 'silver', 'hair', 'cascading', 'like', 'waterfall', 'around', 'shoulders', '.', 'Sensing', 'Aiden', \"'s\", 'presence', ',', 'beckoned', 'forward', 'gentle', 'smile', '.', '``', 'Welcome', ',', 'young', 'traveler', ',', \"''\", 'said', ',', 'voice', 'like', 'music', 'ears', '.', '``', 'brings', 'humble', 'abode', '?', \"''\", 'Aiden', 'bowed', 'respectfully', 'sorceress', ',', 'heart', 'pounding', 'awe', 'reverence', '.', '``', 'seek', 'Fountain', 'Youth', ',', \"''\", 'replied', ',', 'voice', 'barely', 'whisper', '.', '``', 'heard', 'possess', 'knowledge', 'find', '.', \"''\", 'Elysia', 'studied', 'moment', ',', 'piercing', 'gaze', 'seeming', 'look', 'soul', '.', '``', 'Fountain', 'Youth', 'powerful', 'artifact', ',', 'indeed', ',', \"''\", 'said', '.', '``', 'whereabouts', 'long', 'forgotten', 'mortals', '.', 'However', ',', 'offer', 'something', 'far', 'greater', 'eternal', 'youth', '–', 'wisdom', '.', \"''\", ',', 'days', 'end', ',', 'Aiden', 'remained', 'enchanted', 'forest', ',', 'learning', 'Elysia', 'secrets', 'universe', 'mysteries', 'magic', '.', 'passing', 'day', ',', 'felt', 'growing', 'wiser', 'attuned', 'world', 'around', '.', 'end', ',', 'Aiden', 'realized', 'true', 'magic', 'enchanted', 'forest', 'lay', 'hidden', 'treasures', 'mystical', 'creatures', ',', 'wisdom', 'passed', 'sorceress', 'Elysia', '.', 'bid', 'farewell', 'forest', 'set', 'journey', ',', 'carried', 'promise', 'eternal', 'youth', ',', 'knowledge', 'would', 'guide', 'rest', 'days', '.']\n"
          ]
        }
      ]
    },
    {
      "cell_type": "markdown",
      "source": [
        "##PERFORMED THE POS TAGGING AND MAIN CHARACTER IN THE STORY"
      ],
      "metadata": {
        "id": "48_taFGm6WnB"
      }
    },
    {
      "cell_type": "code",
      "source": [
        "nltk.download('averaged_perceptron_tagger')\n",
        "# Initialize lists to store nouns\n",
        "nouns = []\n",
        "\n",
        "# Process each sentence\n",
        "for sentence in sentences:\n",
        "    # Tokenize words\n",
        "    words = word_tokenize(sentence)\n",
        "\n",
        "    # Perform POS tagging\n",
        "    tagged_words = nltk.pos_tag(words)\n",
        "\n",
        "    # Filter nouns\n",
        "    nouns.extend([word for word, tag in tagged_words if tag.startswith('NN') and word.lower() not in stop_words])\n",
        "\n",
        "# Count the frequency of nouns\n",
        "noun_frequency = Counter(nouns)\n",
        "\n",
        "# Print the most common nouns\n",
        "print(\"Noun Frequency:\")\n",
        "for noun, frequency in noun_frequency.most_common():\n",
        "    print(f\"{noun}: {frequency}\")\n",
        "\n",
        "# The main character is the most frequent noun\n",
        "main_character = noun_frequency.most_common(1)[0][0]\n",
        "print(f\"\\nThe main character in the story is: {main_character}\")"
      ],
      "metadata": {
        "colab": {
          "base_uri": "https://localhost:8080/"
        },
        "id": "U5VZ6ChX5frW",
        "outputId": "e2316356-bf12-4ec4-d586-ccdc2079ed08"
      },
      "execution_count": 31,
      "outputs": [
        {
          "output_type": "stream",
          "name": "stderr",
          "text": [
            "[nltk_data] Downloading package averaged_perceptron_tagger to\n",
            "[nltk_data]     /root/nltk_data...\n",
            "[nltk_data]   Unzipping taggers/averaged_perceptron_tagger.zip.\n"
          ]
        },
        {
          "output_type": "stream",
          "name": "stdout",
          "text": [
            "Noun Frequency:\n",
            "Elysia: 9\n",
            "Aiden: 9\n",
            "forest: 5\n",
            "sorceress: 5\n",
            "magic: 4\n",
            "creatures: 3\n",
            "tree: 3\n",
            "wisdom: 3\n",
            "Fountain: 3\n",
            "Youth: 3\n",
            "days: 3\n",
            "knowledge: 3\n",
            "realm: 2\n",
            "oak: 2\n",
            "trunk: 2\n",
            "beings: 2\n",
            "day: 2\n",
            "abode: 2\n",
            "voice: 2\n",
            "youth: 2\n",
            "end: 2\n",
            "time: 1\n",
            "branches: 1\n",
            "sky: 1\n",
            "fingers: 1\n",
            "heavens: 1\n",
            "Legend: 1\n",
            "powers: 1\n",
            "corners: 1\n",
            "abilities: 1\n",
            "life: 1\n",
            "company: 1\n",
            "whispering: 1\n",
            "winds: 1\n",
            "leaves: 1\n",
            "adventurer: 1\n",
            "quest: 1\n",
            "curiosity: 1\n",
            "allure: 1\n",
            "unaware: 1\n",
            "dangers: 1\n",
            "depths: 1\n",
            "myriad: 1\n",
            "sprites: 1\n",
            "unicorns: 1\n",
            "tales: 1\n",
            "whispers: 1\n",
            "ancient: 1\n",
            "trees: 1\n",
            "wandering: 1\n",
            "breath: 1\n",
            "chamber: 1\n",
            "light: 1\n",
            "throne: 1\n",
            "roots: 1\n",
            "eyes: 1\n",
            "silver: 1\n",
            "hair: 1\n",
            "waterfall: 1\n",
            "shoulders: 1\n",
            "presence: 1\n",
            "smile: 1\n",
            "Welcome: 1\n",
            "traveler: 1\n",
            "music: 1\n",
            "ears: 1\n",
            "heart: 1\n",
            "awe: 1\n",
            "reverence: 1\n",
            "whisper: 1\n",
            "moment: 1\n",
            "soul: 1\n",
            "artifact: 1\n",
            "whereabouts: 1\n",
            "mortals: 1\n",
            "something: 1\n",
            "secrets: 1\n",
            "universe: 1\n",
            "mysteries: 1\n",
            "passing: 1\n",
            "world: 1\n",
            "treasures: 1\n",
            "journey: 1\n",
            "promise: 1\n",
            "rest: 1\n",
            "\n",
            "The main character in the story is: Elysia\n"
          ]
        }
      ]
    },
    {
      "cell_type": "markdown",
      "source": [
        "##COUNTED THE WORD FREQUENCY"
      ],
      "metadata": {
        "id": "1Su73v1k6Rwq"
      }
    },
    {
      "cell_type": "code",
      "source": [
        "# Initialize lists to store words\n",
        "words = []\n",
        "\n",
        "# Process each sentence\n",
        "for sentence in sentences:\n",
        "    # Tokenize words\n",
        "    tokens = word_tokenize(sentence)\n",
        "\n",
        "    # Remove punctuation and convert to lowercase\n",
        "    words.extend([token.lower() for token in tokens if token.isalpha() and token.lower() not in stop_words])\n",
        "\n",
        "# Count the frequency of words\n",
        "word_frequency = Counter(words)\n",
        "\n",
        "# Print the most common words and their frequencies\n",
        "print(\"Word Frequency:\")\n",
        "for word, frequency in word_frequency.most_common():\n",
        "    print(f\"{word}: {frequency}\")"
      ],
      "metadata": {
        "colab": {
          "base_uri": "https://localhost:8080/"
        },
        "id": "OUthllsF55d1",
        "outputId": "afd420d5-243a-4d6a-dd10-f155afe26d60"
      },
      "execution_count": 32,
      "outputs": [
        {
          "output_type": "stream",
          "name": "stdout",
          "text": [
            "Word Frequency:\n",
            "elysia: 9\n",
            "aiden: 9\n",
            "forest: 7\n",
            "sorceress: 5\n",
            "youth: 5\n",
            "enchanted: 4\n",
            "magic: 4\n",
            "upon: 3\n",
            "creatures: 3\n",
            "within: 3\n",
            "ancient: 3\n",
            "tree: 3\n",
            "like: 3\n",
            "wisdom: 3\n",
            "fountain: 3\n",
            "days: 3\n",
            "knowledge: 3\n",
            "realm: 2\n",
            "far: 2\n",
            "mystical: 2\n",
            "deep: 2\n",
            "stood: 2\n",
            "towering: 2\n",
            "oak: 2\n",
            "hollowed: 2\n",
            "trunk: 2\n",
            "powerful: 2\n",
            "beings: 2\n",
            "day: 2\n",
            "young: 2\n",
            "find: 2\n",
            "seek: 2\n",
            "abode: 2\n",
            "around: 2\n",
            "said: 2\n",
            "voice: 2\n",
            "eternal: 2\n",
            "end: 2\n",
            "time: 1\n",
            "away: 1\n",
            "existed: 1\n",
            "thrived: 1\n",
            "roamed: 1\n",
            "freely: 1\n",
            "gnarled: 1\n",
            "branches: 1\n",
            "stretching: 1\n",
            "towards: 1\n",
            "sky: 1\n",
            "fingers: 1\n",
            "yearning: 1\n",
            "touch: 1\n",
            "heavens: 1\n",
            "legend: 1\n",
            "magnificent: 1\n",
            "resided: 1\n",
            "known: 1\n",
            "ordinary: 1\n",
            "powers: 1\n",
            "unparalleled: 1\n",
            "sought: 1\n",
            "corners: 1\n",
            "despite: 1\n",
            "extraordinary: 1\n",
            "abilities: 1\n",
            "lived: 1\n",
            "solitary: 1\n",
            "life: 1\n",
            "preferring: 1\n",
            "company: 1\n",
            "whispering: 1\n",
            "winds: 1\n",
            "rustling: 1\n",
            "leaves: 1\n",
            "one: 1\n",
            "adventurer: 1\n",
            "named: 1\n",
            "stumbled: 1\n",
            "quest: 1\n",
            "fabled: 1\n",
            "drawn: 1\n",
            "curiosity: 1\n",
            "allure: 1\n",
            "ventured: 1\n",
            "deeper: 1\n",
            "unaware: 1\n",
            "dangers: 1\n",
            "lurked: 1\n",
            "shadowed: 1\n",
            "depths: 1\n",
            "journeyed: 1\n",
            "encountered: 1\n",
            "myriad: 1\n",
            "fantastical: 1\n",
            "mischievous: 1\n",
            "sprites: 1\n",
            "majestic: 1\n",
            "unicorns: 1\n",
            "tales: 1\n",
            "captivated: 1\n",
            "determined: 1\n",
            "pressed: 1\n",
            "guided: 1\n",
            "whispers: 1\n",
            "trees: 1\n",
            "finally: 1\n",
            "wandering: 1\n",
            "housed: 1\n",
            "taking: 1\n",
            "breath: 1\n",
            "stepped: 1\n",
            "inside: 1\n",
            "found: 1\n",
            "chamber: 1\n",
            "bathed: 1\n",
            "soft: 1\n",
            "ethereal: 1\n",
            "light: 1\n",
            "seated: 1\n",
            "throne: 1\n",
            "twisted: 1\n",
            "roots: 1\n",
            "eyes: 1\n",
            "sparkling: 1\n",
            "silver: 1\n",
            "hair: 1\n",
            "cascading: 1\n",
            "waterfall: 1\n",
            "shoulders: 1\n",
            "sensing: 1\n",
            "presence: 1\n",
            "beckoned: 1\n",
            "forward: 1\n",
            "gentle: 1\n",
            "smile: 1\n",
            "welcome: 1\n",
            "traveler: 1\n",
            "music: 1\n",
            "ears: 1\n",
            "brings: 1\n",
            "humble: 1\n",
            "bowed: 1\n",
            "respectfully: 1\n",
            "heart: 1\n",
            "pounding: 1\n",
            "awe: 1\n",
            "reverence: 1\n",
            "replied: 1\n",
            "barely: 1\n",
            "whisper: 1\n",
            "heard: 1\n",
            "possess: 1\n",
            "studied: 1\n",
            "moment: 1\n",
            "piercing: 1\n",
            "gaze: 1\n",
            "seeming: 1\n",
            "look: 1\n",
            "soul: 1\n",
            "artifact: 1\n",
            "indeed: 1\n",
            "whereabouts: 1\n",
            "long: 1\n",
            "forgotten: 1\n",
            "mortals: 1\n",
            "however: 1\n",
            "offer: 1\n",
            "something: 1\n",
            "greater: 1\n",
            "remained: 1\n",
            "learning: 1\n",
            "secrets: 1\n",
            "universe: 1\n",
            "mysteries: 1\n",
            "passing: 1\n",
            "felt: 1\n",
            "growing: 1\n",
            "wiser: 1\n",
            "attuned: 1\n",
            "world: 1\n",
            "realized: 1\n",
            "true: 1\n",
            "lay: 1\n",
            "hidden: 1\n",
            "treasures: 1\n",
            "passed: 1\n",
            "bid: 1\n",
            "farewell: 1\n",
            "set: 1\n",
            "journey: 1\n",
            "carried: 1\n",
            "promise: 1\n",
            "would: 1\n",
            "guide: 1\n",
            "rest: 1\n"
          ]
        }
      ]
    }
  ]
}